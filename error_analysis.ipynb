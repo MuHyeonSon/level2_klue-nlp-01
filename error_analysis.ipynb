{
 "cells": [
  {
   "cell_type": "code",
   "execution_count": 24,
   "metadata": {},
   "outputs": [
    {
     "name": "stdout",
     "output_type": "stream",
     "text": [
      "['id' 'sentence' 'subject_entity' 'object_entity' 'label' 'pred_label'\n",
      " 'probs']\n",
      "wrong data >> 1370\n"
     ]
    }
   ],
   "source": [
    "# 기본 설정\n",
    "\n",
    "\n",
    "from sklearn.metrics import ConfusionMatrixDisplay, confusion_matrix\n",
    "from matplotlib import pyplot as plt\n",
    "from transformers import AutoTokenizer, AutoModelForSequenceClassification\n",
    "import pandas as pd\n",
    "import json\n",
    "\n",
    "\n",
    "# confusion_matrix\n",
    "def plot_confusion_matrix(y_preds, y_true, labels):\n",
    "    cm = confusion_matrix(y_true, y_preds, normalize=\"true\")\n",
    "    # 사이즈 변경: figsize = (x, y) -> x, y로 사이즈를 변경해 주세요\n",
    "    fig, ax = plt.subplots(figsize=(30, 30))\n",
    "    disp = ConfusionMatrixDisplay(confusion_matrix=cm, display_labels=labels)\n",
    "    disp.plot(cmap=\"Blues\", values_format=\".2f\", ax=ax, colorbar=False)\n",
    "    plt.show()\n",
    "\n",
    "\n",
    "# 설정에 따라 수정이 필요합니다\n",
    "# path -> 분석하고 싶은 inference_file을 설정해 주세요\n",
    "# ex) log/{inference_file}/ ... \n",
    "# ex) prediction/{inference_file}/ ...\n",
    "path = '2023-05-13-22:40:34' # 이 부분만 변경하시면 됩니다.\n",
    "\n",
    "with open(f'/opt/ml/level2_klue-nlp-01/code/logs/{path}/best_model/config.json', 'r') as f:\n",
    "    model_info = json.load(f)\n",
    "tokenizer = AutoTokenizer.from_pretrained(model_info['_name_or_path'])\n",
    "\n",
    "no_preprocess_train_path = f'/opt/ml/level2_klue-nlp-01/code/logs/{path}/split_data/split_nopreprocess_train.csv'\n",
    "preprocess_train_path = f'/opt/ml/level2_klue-nlp-01/code/logs/{path}/split_data/split_preprocess_train.csv'\n",
    "val_inference_path = f'/opt/ml/level2_klue-nlp-01/code/prediction/{path}/val_inference.csv'\n",
    "no_preprocess_val_path = f'/opt/ml/level2_klue-nlp-01/code/logs/{path}/split_data/split_nopreprocess_val.csv'\n",
    "preprocess_val_path = f'/opt/ml/level2_klue-nlp-01/code/logs/{path}/split_data/split_preprocess_val.csv'\n",
    "\n",
    "no_preprocess_train_df = pd.read_csv(no_preprocess_train_path)\n",
    "preprocess_train_df = pd.read_csv(preprocess_train_path)\n",
    "val_inference_df = pd.read_csv(val_inference_path)\n",
    "no_preprocess_val_df = pd.read_csv(no_preprocess_val_path)\n",
    "preprocess_val_df = pd.read_csv(preprocess_val_path)\n",
    "\n",
    "# 틀린 데이터 추출\n",
    "wrong_df = val_inference_df[val_inference_df['label'] != val_inference_df['pred_label']]\n",
    "print(val_inference_df.columns.values)\n",
    "print(\"wrong data >>\", len(wrong_df))\n"
   ]
  },
  {
   "cell_type": "code",
   "execution_count": 6,
   "metadata": {},
   "outputs": [],
   "source": [
    "# confusion_matrix 출력\n",
    "\n",
    "label = val_inference_df['label']\n",
    "pred_label = val_inference_df['pred_label']\n",
    "\n",
    "\n",
    "# plot_confusion_matrix(pred_label, label, label.unique())\n"
   ]
  },
  {
   "cell_type": "code",
   "execution_count": 38,
   "metadata": {},
   "outputs": [],
   "source": [
    "# 데이터 분석 (갯수, 비율)\n",
    "# 필요한 부분만 주석 해제해서 사용해 주세요\n",
    "\n",
    "\n",
    "print(\">>> val 데이터 갯수\")\n",
    "# print(val_inference_df['label'].value_counts())\n",
    "# val_inference_df['label'].value_counts().plot(kind='barh', figsize=(30,30))\n",
    "# plt.show()\n",
    "# print()\n",
    "\n",
    "\n",
    "print(\">>> 틀린 데이터 갯수\")\n",
    "# print(wrong_df['label'].value_counts())\n",
    "# wrong_df['label'].value_counts().plot(kind='barh', figsize=(30,30))\n",
    "# plt.show()\n",
    "# print()\n",
    "\n",
    "\n",
    "print(\">>> 틀린 데이터 비율\")\n",
    "# print(wrong_df['label'].value_counts(normalize=True))\n",
    "# wrong_df['label'].value_counts(normalize=True).plot(kind='barh', figsize=(30,30))\n",
    "# plt.show()\n",
    "# print()\n",
    "\n",
    "\n",
    "print(\">>> val 데이터 대비, 틀린 데이터 비율\")\n",
    "# ratio_list = []\n",
    "# label = wrong_df['label'].unique()\n",
    "# for i in range(len(label)):\n",
    "#     count = len(wrong_df[wrong_df['label'] == label[i]]) / len(no_preprocess_train_df[no_preprocess_train_df['label'] == label[i]])\n",
    "#     ratio_list.append(list([\"{0:38}\".format(label[i]), round(count,3)]))\n",
    "# ratio_list = sorted(ratio_list, key=lambda x:x[1], reverse=True)\n",
    "# for i in range(len(label)):\n",
    "#     print(ratio_list[i][0],ratio_list[i][1])\n"
   ]
  },
  {
   "cell_type": "code",
   "execution_count": 39,
   "metadata": {},
   "outputs": [],
   "source": [
    "label = val_inference_df['label']\n",
    "pred_label = val_inference_df['pred_label']\n",
    "\n",
    "# print(\">>> label 정보\")\n",
    "# print(label.unique())\n",
    "# print()\n",
    "\n",
    "# 데이터 분석 (detail)\n",
    "# 필요한 부분만 주석 해제해서 사용해 주세요\n",
    "# selected_label -> 분석을 원하는 라벨로 변경해 주세요\n",
    "selected_label = 'per:place_of_residence'\n",
    "\n",
    "selected_df = val_inference_df[val_inference_df['label'] == selected_label]\n",
    "selected_wrong_df = selected_df[selected_df['label'] != selected_df['pred_label']]\n",
    "\n",
    "\n",
    "print(f\">>> 예측한 {selected_label} 데이터 갯수\")\n",
    "# print(len(selected_df['label']))\n",
    "# print()\n",
    "\n",
    "\n",
    "print(f\">>> 예측한 {selected_label} 중, 틀린 데이터\")\n",
    "# print(len(selected_wrong_df))\n",
    "# print(selected_wrong_df['pred_label'].value_counts())\n",
    "# selected_wrong_df['pred_label'].value_counts().plot(kind='barh')\n",
    "# plt.show()\n",
    "# print()\n",
    "\n",
    "\n",
    "print(f\">>> 예측한 {selected_label} 중, 틀린 데이터 정보\")\n",
    "# print()\n",
    "# for i in selected_wrong_df.index:\n",
    "#     print(\"---------------------------------------------------------------------------------\\n\")\n",
    "#     print(f\"index >>> \",i)\n",
    "#     print(f\"{selected_wrong_df['sentence'][i]}\")\n",
    "#     print(tokenizer.decode(tokenizer(selected_wrong_df['sentence'][i]).input_ids))\n",
    "#     print(f\"subject >>> {no_preprocess_val_df['subject_entity'][i]}\")\n",
    "#     print(f\"object >>> {no_preprocess_val_df['object_entity'][i]}\")\n",
    "#     print(f\"true_relation >>> {selected_label}\")\n",
    "#     print(f\"pred_relation >>> {selected_wrong_df['pred_label'][i]}\")\n",
    "#     print()\n"
   ]
  },
  {
   "cell_type": "code",
   "execution_count": null,
   "metadata": {},
   "outputs": [],
   "source": []
  }
 ],
 "metadata": {
  "kernelspec": {
   "display_name": "Python 3.8.5 ('base')",
   "language": "python",
   "name": "python3"
  },
  "language_info": {
   "codemirror_mode": {
    "name": "ipython",
    "version": 3
   },
   "file_extension": ".py",
   "mimetype": "text/x-python",
   "name": "python",
   "nbconvert_exporter": "python",
   "pygments_lexer": "ipython3",
   "version": "3.8.5"
  },
  "orig_nbformat": 4,
  "vscode": {
   "interpreter": {
    "hash": "d4d1e4263499bec80672ea0156c357c1ee493ec2b1c70f0acce89fc37c4a6abe"
   }
  }
 },
 "nbformat": 4,
 "nbformat_minor": 2
}
